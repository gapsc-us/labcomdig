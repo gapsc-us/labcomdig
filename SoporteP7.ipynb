{
 "cells": [
  {
   "cell_type": "markdown",
   "metadata": {},
   "source": [
    "# Práctica 7. Sistema de comunicación digital lineal"
   ]
  },
  {
   "cell_type": "markdown",
   "metadata": {},
   "source": [
    "**Código 7.1:** Salida del receptor vectorial en un canal AWGN para una PAM."
   ]
  },
  {
   "cell_type": "code",
   "execution_count": null,
   "metadata": {},
   "outputs": [],
   "source": [
    "import numpy as np\n",
    "import matplotlib.pyplot as plt\n",
    "from labcomdig import transmisorpam, Qfunct\n",
    "\n",
    "# Inicialización\n",
    "Nb = 10**4 # Nb = No de bits a transmitir\n",
    "Eb = 9 # Eb = Energía media transmitida en Julios \n",
    "M = 2\n",
    "L = 4 # L = No de puntos que vamos a utilizar para transmitir un bit\n",
    "# Definición del pulso básico.\n",
    "p = np.ones(L)\n",
    "\n",
    "# Secuencia binaria generada por la fuente\n",
    "Bn = np.random.randint(2,size=Nb) # Bn = Secuencia de dígitos binarios\n",
    "#%% Transmisor PAM\n",
    "[Xn,Bn,An,phi,alfabeto] = transmisorpam(Bn,Eb,M,p,L)\n",
    "# Actualiza el valor de Nb\n",
    "Nb = len(Bn)"
   ]
  },
  {
   "cell_type": "code",
   "execution_count": null,
   "metadata": {},
   "outputs": [],
   "source": [
    "# Receptor Vectorial\n",
    "# Alternativa 1) receptor vectorial usando filtros\n",
    "#hr = np.flipud(phi) #Respuesta impulsiva del filtro adaptado\n",
    "#yn = np.convolve(hr,Xn,'valid') # Salida del filtro adaptado\n",
    "#sn = yn[np.arange(0,Nb*L,L)] # El resultado de muestrear la señal anterior\n",
    "# Alternativa 2) receptor vectorial usando correlación\n",
    "sn = np.reshape(Xn,[Nb,L]) @ phi"
   ]
  },
  {
   "cell_type": "code",
   "execution_count": null,
   "metadata": {},
   "outputs": [],
   "source": [
    "# Representación de la Constelación\n",
    "# Se obtienen valores únicos\n",
    "sx = np.unique(sn)\n",
    "xmax = max(sx)+max(sx)/10+0.5\n",
    "xmin = -(abs(min(sx))+abs(min(sx))/10)-0.5\n",
    "plt.figure(71)\n",
    "plt.plot([xmin,xmax],[0,0],'b-'); # Se representan los ejes\n",
    "plt.plot(sx,np.zeros(len(sx)), 'r*') # Se representa la constelación plt.grid()\n",
    "# Distancia mínima de la constelación\n",
    "dmin = abs(sx[0]-sx[0])\n",
    "#%% Estimación mediante simulación de Monte Carlo de la tasa de error de bit \n",
    "SNRdb = np.arange(20) # SNR en dB donde estimar la BER estimada por MC"
   ]
  },
  {
   "cell_type": "code",
   "execution_count": null,
   "metadata": {},
   "outputs": [],
   "source": [
    "# Inicialización\n",
    "berSimulado = np.zeros(len(SNRdb))\n",
    "for ii in range(len(SNRdb)): # Generamos ruido\n",
    "    SNR = 10**(SNRdb[ii]/10) # relación señal ruido en unidades naturales \n",
    "    varzn = Eb/(2*SNR) #varianza del ruido\n",
    "    # El ruido del canal\n",
    "    Wn = np.sqrt(varzn)*np.random.randn(np.size(Xn))\n",
    "    # Salida del Canal AWGN: señal más el ruido\n",
    "    rn = Xn + Wn\n",
    "    #Salida del Receptor Vectorial\n",
    "    #Alternativa 1, receptor vectorial basado en filtros\n",
    "    #vn = np.convolve(hr, rn, 'valid') # Filtrado por filtro adaptado \n",
    "    #r = vn[np.arange(0,Nb*L,L)] # Se muestrea\n",
    "    #Alternativa 2, receptor vectorial basado en correlador\n",
    "    r = np.reshape(rn,[Nb,L]) @ phi\n",
    "    #Salida del Detector. El umbral está situado en sx(1)+sx(2))/2\n",
    "    correctos = (r>(sx[0]+sx[1])/2) == (Bn) #ó = np.equal(r>(sx[0]+sx[1])/2,Bn)\n",
    "    #Estimamos la tasa de error de bit para esa SNR\n",
    "    errores = Nb-np.sum(correctos)\n",
    "    berSimulado[ii]=errores/Nb #BER para SNRdb[ii]"
   ]
  },
  {
   "cell_type": "code",
   "execution_count": null,
   "metadata": {},
   "outputs": [],
   "source": [
    "# Cálculo de BER teórica\n",
    "SNRdb2 = np.arange(20, step=0.1) #SNR donde calcular la BER teórica\n",
    "SNR2 = 10**(SNRdb2/10) #Paso a unidades naturales \n",
    "berTeorico = Qfunct(np.sqrt(2*SNR2))"
   ]
  },
  {
   "cell_type": "code",
   "execution_count": null,
   "metadata": {},
   "outputs": [],
   "source": [
    "# Representación de las probabilidades de error\n",
    "plt.figure(72,figsize = (10,7)) \n",
    "plt.semilogy(SNRdb,berSimulado,'r*')\n",
    "plt.semilogy(SNRdb2,berTeorico,'k-')\n",
    "plt.axis([1, 16, 10**(-8), 1]), plt.grid()\n",
    "plt.xlabel('Relación señal/Ruido $E_b/N_0$ (dB)') \n",
    "plt.ylabel('Probabilidad de error de bit ($P_b$)')\n",
    "plt.legend(['Simulado','Teórico'],loc='best') # Crea leyenda \n",
    "plt.show()"
   ]
  },
  {
   "cell_type": "markdown",
   "metadata": {},
   "source": [
    "**Código 7.2:** Función detecta."
   ]
  },
  {
   "cell_type": "code",
   "execution_count": null,
   "metadata": {},
   "outputs": [],
   "source": [
    "def detecta(r, alfabeto):\n",
    "    '''\n",
    "    An = detecta(r, alfabeto)\n",
    "    r = secuencia a la entrada del detector, con estimaciones de s_i \n",
    "    alfabeto = tabla con los niveles de amplitud/símbolos\n",
    "    Genera:\n",
    "    An = una secuencia de símbolos pertenecientes al alfabeto de acuerdo con una regla de distancia euclidiana mínima (mínima distancia)\n",
    "    '''\n",
    "    # Longitud de la secuencia\n",
    "    N = len(r)\n",
    "    # Inicializa\n",
    "    An = np.zeros(N)\n",
    "    for i in range(N):\n",
    "        ind = np.argmin(abs(r[i]-alfabeto)) #ind = np.where(abs(r[i]-alfabeto) == np.amin(abs(r[i]-alfabeto)))\n",
    "        An[i] = alfabeto[ind]\n",
    "    return An"
   ]
  },
  {
   "cell_type": "markdown",
   "metadata": {},
   "source": [
    "**Código 7.3:** Función detecta Sin el Bucle For."
   ]
  },
  {
   "cell_type": "code",
   "execution_count": null,
   "metadata": {},
   "outputs": [],
   "source": [
    "def detectaSBF(r,alfabeto): \n",
    "    '''\n",
    "    An = detectaSBF(r,alfabeto)\n",
    "    r = secuencia a la entrada del detector, con estimaciones de s_i\n",
    "    alfabeto = tabla con los niveles de amplitud/símbolos\n",
    "    Genera:\n",
    "    An = una secuencia de símbolos pertenecientes al alfabeto de acuerdo con\n",
    "    una regla de distancia euclidiana mínima (mínima distancia) \n",
    "    '''\n",
    "    # Obtiene el índice respecto al alfabeto\n",
    "    ind = np.argmin(np.abs(np.repeat(np.expand_dims(r,1),len(alfabeto),1) - alfabeto), 1)\n",
    "    # Genera la secuencia de niveles detectados\n",
    "    An = alfabeto[list(ind)]\n",
    "    return An"
   ]
  },
  {
   "cell_type": "markdown",
   "metadata": {},
   "source": [
    "**Código 7.4:** Función simbolobit."
   ]
  },
  {
   "cell_type": "code",
   "execution_count": null,
   "metadata": {},
   "outputs": [],
   "source": [
    "def simbolobit(An,alfabeto): \n",
    "    '''\n",
    "    Bn = simbolobit(An, alfabeto)\n",
    "    An = secuencia de símbolos pertenecientes al alfabeto\n",
    "    alfabeto = tabla con los símbolos utilizados en la transmisión\n",
    "    Bn = una secuencia de bit, considerando que los símbolos se habían\n",
    "    generado siguiendo una codificación de Gray '''\n",
    "    k = np.log2(len(alfabeto)) # bits por símbolo\n",
    "    if k>1:\n",
    "        distancia = abs(alfabeto[0]-alfabeto[1]) \n",
    "        indices = np.round((An-alfabeto[0])/distancia)\n",
    "        Bn = np.reshape(de2gray(indices,k),[int(k*len(An))]) \n",
    "    else:\n",
    "        Bn = ((An/max(alfabeto))+1)/2\n",
    "    return Bn"
   ]
  },
  {
   "cell_type": "markdown",
   "metadata": {},
   "source": [
    "**Código 7.5:** Función de2gray."
   ]
  },
  {
   "cell_type": "code",
   "execution_count": null,
   "metadata": {},
   "outputs": [],
   "source": [
    "def de2gray(d,n): \n",
    "    \"\"\"\n",
    "    b = de2gray(d,n)\n",
    "    Convierte un número decimal, d, en un vector binario, b, de longitud n \n",
    "    \"\"\"\n",
    "    c = np.zeros([len(d),int(n)])\n",
    "    for i in range(int(n)): d, c[:,i] = np.divmod(d,2)\n",
    "    c = np.fliplr(c) \n",
    "    b = np.zeros_like(c) \n",
    "    b[:,0] = c[:,0] \n",
    "    aux = b[:,0]\n",
    "    for i in range(1,int(n)):\n",
    "        b[:,i] = np.logical_xor(aux, c[:,i]) \n",
    "        aux = np.logical_xor(b[:,i], aux)\n",
    "    return np.reshape(b,[-1]).astype(np.int)"
   ]
  },
  {
   "cell_type": "markdown",
   "metadata": {},
   "source": [
    "**Código 7.6:** Sistema de comunicación digital M-PAM."
   ]
  },
  {
   "cell_type": "code",
   "execution_count": null,
   "metadata": {},
   "outputs": [],
   "source": [
    "import numpy as np\n",
    "import matplotlib.pyplot as plt\n",
    "from labcomdig import transmisorpam, Qfunct, detectaSBF, simbolobit\n",
    "\n",
    "# Inicialización\n",
    "verbose = 1 # Para indicar por pantalla el progreso de la ejecución \n",
    "L = 4 #Número de muestras por símbolo transmitidas\n",
    "Nb = 10**4 #Número de bits a transmitir Eb = 9 #Energía promedo de bit\n",
    "p = np.ones(L) # definamos el pulso básico #Colores RGB para representa curvas:\n",
    "codigocolor = np.array([[0,0,0], [0,1,0], [0,0,1], [1,0,0], [1,0,1], [0,1,1]]) \n",
    "jj=0 # variable auxiliar para bucle for\n",
    "\n",
    "# Calculamos para cada M la estimación mediante simulación de la probabilidad\n",
    "# de error de símbolo y de bit equivalente\n",
    "for M in np.array([2, 4, 8, 16, 32]):\n",
    "    if verbose: print('\\n\\nSimulando sistema PAM con M={}'.format(M)) \n",
    "    jj = jj+1;\n",
    "    Bn = np.random.randint(2,size=Nb)\n",
    "    [Xn,Bn,An,phi,alfabeto] = transmisorpam(Bn,Eb,M,p,L) \n",
    "    #[Secuencia Tx, Bits Tx, Símbolos Tx, pulso usado, constelación]\n",
    "    Nb = len(Bn) #Número de bits transmitidos\n",
    "    Ns = len(An) #Número de símbolos transmitidos\n",
    "    # Definamos la relación señal ruido en dB y otros elementos\n",
    "    SNRdb = np.arange(20)\n",
    "    serSimulada = np.zeros(len(SNRdb))\n",
    "    berSimulada = np.zeros(len(SNRdb))\n",
    "    if verbose: print(' Simulando SNR = ', end = '') \n",
    "    for ii in range(len(SNRdb)):\n",
    "        if verbose: print('{}, '.format(SNRdb[ii]), end = '') \n",
    "        SNR = 10**(SNRdb[ii]/10)\n",
    "        varzn = Eb/(2*SNR)\n",
    "        # El ruido (AWGN)\n",
    "        Wn = np.sqrt(varzn)*np.random.randn(np.size(Xn))\n",
    "        # Salida del Canal AWGN: la señal Tx más el ruido\n",
    "        rn = Xn + Wn\n",
    "        # Salida del Receptor Vectorial o Demodulador, usando correlador\n",
    "        r = np.dot(np.reshape(rn,[Ns,L]), phi)\n",
    "        # Salida del Detector\n",
    "        Andetectado = detectaSBF(r, alfabeto) #Símbolos detectados \n",
    "        erroresSimbolo = Ns-sum(Andetectado==An) # No Errores de símbolo\n",
    "        serSimulada[ii] = erroresSimbolo/Ns\n",
    "        Bndetectado = simbolobit(Andetectado, alfabeto) #Bits detectados \n",
    "        erroresBit = Nb-sum(Bndetectado==Bn) # No Errores de bit\n",
    "        berSimulada[ii] = erroresBit/Nb\n",
    "        \n",
    "    # Cálculo de la probabilidad o tasa de error teórico\n",
    "    SNRdb2 = np.arange(20, step=0.01) #SNR donde calcular la BER teórica\n",
    "    SNR2 = 10**(SNRdb2/10) #paso a unidades naturales\n",
    "    if verbose: print('Calculando tasa de error de símbolo teórica') \n",
    "    serTeorico = (2*(M-1)/M)*Qfunct(np.sqrt((6*np.log2(M)/(M**2-1))*SNR2))\n",
    "    if verbose: print('\\nCalculando tasa de error de bit teórica') \n",
    "    berTeorico = serTeorico/np.log2(M)\n",
    "    \n",
    "    # Representación de las tasas de error de símbolo y bit, teórica y simuladas\n",
    "    if verbose: print('Representando resultados') \n",
    "    color = codigocolor[jj,:]\n",
    "    plt.figure(73,figsize=(10,7)) # SER \n",
    "    plt.semilogy(SNRdb,serSimulada,'r*')\n",
    "    plt.semilogy(SNRdb2,serTeorico,'-k',color=color, linewidth=2) \n",
    "    plt.axis([0,20,10**-7,1])\n",
    "    plt.grid()\n",
    "    plt.xlabel('Relación Señal/Ruido $E_b/N_0$ (dB)');\n",
    "    plt.ylabel('Probabilidad de error de símbolo ($P_M$)')\n",
    "    plt.figure(74,figsize=(10,7)) # BER\n",
    "    plt.semilogy(SNRdb,berSimulada,'r*') \n",
    "    plt.semilogy(SNRdb2,berTeorico,'-k',color=color, linewidth = 1)\n",
    "    plt.axis([0,20,10**-7,1]) \n",
    "    plt.grid()\n",
    "    plt.xlabel('Relación Señal/Ruido $E_b/N_0$ (dB)') \n",
    "    plt.ylabel('Probabilidad de error de bit equivalente ($P_b$)')\n",
    "plt.show()"
   ]
  },
  {
   "cell_type": "markdown",
   "metadata": {},
   "source": [
    "## Ejercicio propuesto (básico)"
   ]
  },
  {
   "cell_type": "markdown",
   "metadata": {},
   "source": [
    "Basándose en el sistema de comunicación PAM banda base diseñado en la Sección 7.2, en este Ejercicio Básico se desea diseñar un sistema de comunicación PAM paso de banda M-ario en un canal AWGN y comprobar sus prestaciones para diversos valores de M y relación señal/ruido. En concreto:\n",
    "\n",
    "**1.** Diseñar un transmisor paso de banda mediante la función transmisorpam, cuando: \n",
    "\n",
    " - $N_b = 10^6$ bits  \n",
    " - $M = 8$.\n",
    " - $E_b = 8$ Julios.\n",
    " - $L = 32$.\n",
    " - El pulso conformador se muestra en la Figura 7.7.\n",
    " - Frecuencia portadora $\\omega_c = 8\\pi/T$.\n",
    " - $R_b = 10^4$ bps.\n",
    "\n",
    "<img src=\"Pulso.png\" style=\"max-width:30%;width:auto;height:auto;\" align=\"center\">"
   ]
  },
  {
   "cell_type": "code",
   "execution_count": null,
   "metadata": {},
   "outputs": [],
   "source": []
  },
  {
   "cell_type": "markdown",
   "metadata": {},
   "source": [
    "**2.** Representar la señal discreta transmitida para los primeros 10 símbolos generados."
   ]
  },
  {
   "cell_type": "code",
   "execution_count": null,
   "metadata": {},
   "outputs": [],
   "source": []
  },
  {
   "cell_type": "markdown",
   "metadata": {},
   "source": [
    "**3.** Representar la señal continua transmitida para los primeros 10 símbolos generados."
   ]
  },
  {
   "cell_type": "code",
   "execution_count": null,
   "metadata": {},
   "outputs": [],
   "source": []
  },
  {
   "cell_type": "markdown",
   "metadata": {},
   "source": [
    "**4.** Determinar la energía de la señal transmitida. ¿Coincide la energía media por bit transmitida con la elegida en el diseño? Razonar la posible discrepancia."
   ]
  },
  {
   "cell_type": "code",
   "execution_count": null,
   "metadata": {},
   "outputs": [],
   "source": []
  },
  {
   "cell_type": "markdown",
   "metadata": {},
   "source": [
    "**5.** Demodular la señal transmitida cuando se utiliza un demodulador que utiliza un único correlador, en ausencia de ruido."
   ]
  },
  {
   "cell_type": "code",
   "execution_count": null,
   "metadata": {},
   "outputs": [],
   "source": []
  },
  {
   "cell_type": "markdown",
   "metadata": {},
   "source": [
    "**6.** Representar la respuesta impulsiva discreta de un filtro adaptado que pudiera utilizarse como parte de un demodulador. Demodular la señal transmitida cuando se utiliza un demodulador que utiliza el filtro adaptado, en ausencia de ruido."
   ]
  },
  {
   "cell_type": "code",
   "execution_count": null,
   "metadata": {},
   "outputs": [],
   "source": []
  },
  {
   "cell_type": "markdown",
   "metadata": {},
   "source": [
    "**7.** Determinar los posibles niveles a la entrada del detector, en ausencia de ruido."
   ]
  },
  {
   "cell_type": "code",
   "execution_count": null,
   "metadata": {},
   "outputs": [],
   "source": []
  },
  {
   "cell_type": "markdown",
   "metadata": {},
   "source": [
    "**8.** Determinar la varianza del ruido presente a la entrada del detector cuando la relación Ebav/N0 = 16 dB. ¿Cuáles serían los umbrales de detección MAP?"
   ]
  },
  {
   "cell_type": "code",
   "execution_count": null,
   "metadata": {},
   "outputs": [],
   "source": []
  },
  {
   "cell_type": "code",
   "execution_count": null,
   "metadata": {},
   "outputs": [],
   "source": []
  },
  {
   "cell_type": "markdown",
   "metadata": {},
   "source": [
    "**9.** La probabilidad de error de símbolo PM y la probabilidad de error de bit equivalente Pb pueden obtenerse a partir de las ecuaciones (7.1) y (7.2). Representarlas frente a Ebav/N0 medido en decibelios cuando Ebav/N0 varía entre 0 y 20 dB."
   ]
  },
  {
   "cell_type": "code",
   "execution_count": null,
   "metadata": {},
   "outputs": [],
   "source": []
  },
  {
   "cell_type": "markdown",
   "metadata": {},
   "source": [
    "**10.** Utilizando una secuencia de Nb = 106 bits transmitidos, comprobar experimentalmente que los valores de Pb obtenidos concuerdan con los teóricos cuando la relación Ebav/N0 varía entre 0 y 20 dB."
   ]
  },
  {
   "cell_type": "code",
   "execution_count": null,
   "metadata": {},
   "outputs": [],
   "source": []
  },
  {
   "cell_type": "markdown",
   "metadata": {},
   "source": [
    "## Ejercicio propuesto\n",
    "\n",
    "Basándose en el receptor PAM diseñado, en este ejercicio se desea diseñar un sistema 32-QAM rectangular en banda base y obtener experimentalmente la probabilidad de error de bit equivalente de la misma. Debido a su posible complejidad, se propone un guión de cómo se podría realizar este diseño.\n",
    "\n",
    "**1.** Diseñar un transmisor paso de banda mediante la función transmisorpam, cuando:\n",
    " - $N_b = 10^6$\n",
    " - $M = 8$\n",
    " - $E_b = 8$ Julios.\n",
    " - $L = 32$.\n",
    " - El pulso conformador se muestra en la Figura 7.7.\n",
    " - Frecuencia portadora $\\omega_c = 8\\pi/T$.\n",
    " - $R_b = 10^4$ bps.\n",
    " \n",
    " <img src=\"Pulso.png\" style=\"max-width:30%;width:auto;height:auto;\" align=\"center\">"
   ]
  },
  {
   "cell_type": "code",
   "execution_count": null,
   "metadata": {},
   "outputs": [],
   "source": []
  },
  {
   "cell_type": "markdown",
   "metadata": {},
   "source": [
    "**2.** El receptor estará formado por dos receptores PAM diseñados mediante correladores. Asuma que no hay canal, esto es que el transmisor y receptor están conectados directamente."
   ]
  },
  {
   "cell_type": "code",
   "execution_count": null,
   "metadata": {},
   "outputs": [],
   "source": []
  },
  {
   "cell_type": "markdown",
   "metadata": {},
   "source": [
    "**3.** Si llamamos {ÂnI} a la secuencia de símbolos detectados en la componente en fase y {ÂnQ} a los detectados en la componente en cuadratura, hacer uso de la función simbolobit para obtener las correspondientes secuencias de bits de las componentes en fase y cuadratura, {B̂nI} y {B̂nQ}, respectivamente."
   ]
  },
  {
   "cell_type": "code",
   "execution_count": null,
   "metadata": {},
   "outputs": [],
   "source": []
  },
  {
   "cell_type": "markdown",
   "metadata": {},
   "source": [
    "**4.** La secuencia de bit detectada debe obtenerse intercalando las secuencias de bit anteriores. Esta operación puede realizarse con facilidad mediante el uso de la función que se ha denominado une, que realiza la operación simétrica a la función split. Una posible realización de esta función une se muestra en el siguiente código.\n",
    "\n",
    "Pb = Ne\n",
    "log2 M1 + log2 M2\n",
    "Q\n",
    "⎡⎢⎢⎣\n",
    "Ì\n",
    "6(log2 M1 + log2 M2)\n",
    "M2\n",
    "1 + M2\n",
    "2 − 2\n",
    "Ebav\n",
    "N0\n",
    "⎤⎥⎥⎦\n",
    "(7.3)\n",
    "siendo Ne el número medio de puntos que comparten frontera, que en el caso de una\n",
    "constelación rectangular QAM viene dado por:\n",
    "Ne = 4(1 − 1\n",
    "2M1\n",
    "− 1\n",
    "2M2\n",
    "). (7.4)\n",
    "Compare el resultado experimental y teórico."
   ]
  },
  {
   "cell_type": "code",
   "execution_count": null,
   "metadata": {},
   "outputs": [],
   "source": [
    "def une(BndetectadoI,BndetectadoQ,M1,M2):\n",
    "    '''\n",
    "    [Bndetectado]=une(BndetectadoI,BndetectadoQ,M1,M2)\n",
    "    BndetectadoI = una secuencia de símbolos binarios correspondientes a los\n",
    "    bits en posiciones múltiplos de k1\n",
    "    BndetectadoQ = una secuencia de símbolos binarios correspondientes a los\n",
    "    bits en posiciones múltiplos de k2\n",
    "    M1 = nº de símbolos de la componente en fase\n",
    "    M2 = nº de símbolos de la componente en cuadratura\n",
    "    '''\n",
    "    # Devuelve\n",
    "    # Bndetectado = Los bits entremezclados\n",
    "    import numpy as np\n",
    "    k1 = np.log2(M1)\n",
    "    k2 = np.log2(M2)\n",
    "    N = len(BndetectadoI)/k1\n",
    "    C1 = np.reshape(BndetectadoI,[int(N),int(k1)])\n",
    "    C2 = np.reshape(BndetectadoQ,[int(N),int(k2)])\n",
    "    C = np.c_[C1,C2]\n",
    "    Bndetectado = np.reshape(C,[int(N*(k1+k2))])\n",
    "    return Bndetectado"
   ]
  },
  {
   "cell_type": "markdown",
   "metadata": {},
   "source": [
    "**5.** Obtenga mediante simulación, experimentalmente, cuál es la tasa de error de bit, BER, si se introduce en el sistema anterior un canal AWGN. Estime la BER para un rango entre 0 y 20 dB."
   ]
  },
  {
   "cell_type": "code",
   "execution_count": null,
   "metadata": {},
   "outputs": [],
   "source": []
  },
  {
   "cell_type": "markdown",
   "metadata": {},
   "source": [
    "**6.** La probabilidad de error de bit equivalente del sistema QAM se obtendrá comparando la secuencia de dígitos binarios transmitidos y los detectados. A efectos de comparación, se sabe que esta probabilidad de error viene dada por:\n",
    "\n",
    "$$P_b = \\frac{N_e}{log_2 M_1 + log_2 M_2} Q\\left[\\sqrt{\\frac{6(log_2 M_1 + log_2 M_2}{M_1^2 + M_2^2 -2}\\frac{E_{bav}}{N_0}}\\right]$$\n",
    "\n",
    "siendo Ne el número medio de puntos que comparten frontera, que en el caso de una constelación rectangular QAM viene dado por:\n",
    "\n",
    "$$ N_e = 4\\left(1 - \\frac{1}{2M_1} - \\frac{1}{2M_2}\\right)$$\n",
    "\n",
    "Compare el resultado experimental y teórico."
   ]
  },
  {
   "cell_type": "code",
   "execution_count": null,
   "metadata": {},
   "outputs": [],
   "source": []
  },
  {
   "cell_type": "markdown",
   "metadata": {},
   "source": [
    "**7.** Repetir todos los puntos anteriores utilizando únicamente la función transmisorpam para generar la señal QAM.\n",
    "**8.** Repetir todos los puntos anteriores utilizando la función transmisorqamVC diseñada en el Ejercicio 5.7."
   ]
  },
  {
   "cell_type": "code",
   "execution_count": null,
   "metadata": {},
   "outputs": [],
   "source": []
  },
  {
   "cell_type": "markdown",
   "metadata": {},
   "source": [
    "**8.** Repetir todos los puntos anteriores utilizando la función transmisorqamVC diseñada en el Ejercicio 5.7."
   ]
  },
  {
   "cell_type": "code",
   "execution_count": null,
   "metadata": {},
   "outputs": [],
   "source": []
  }
 ],
 "metadata": {
  "kernelspec": {
   "display_name": "Python 3",
   "language": "python",
   "name": "python3"
  },
  "language_info": {
   "codemirror_mode": {
    "name": "ipython",
    "version": 3
   },
   "file_extension": ".py",
   "mimetype": "text/x-python",
   "name": "python",
   "nbconvert_exporter": "python",
   "pygments_lexer": "ipython3",
   "version": "3.8.5"
  }
 },
 "nbformat": 4,
 "nbformat_minor": 2
}
