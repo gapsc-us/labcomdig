{
 "cells": [
  {
   "cell_type": "markdown",
   "metadata": {},
   "source": [
    "# MANUAL DE LABORATORIO DE COMUNICACIONES DIGITALES: PYTHON\n",
    "F. Javier Payán Somet, Juan José Murillo-Fuentes, José Carlos Aradillas Jaramillo \\\n",
    "_Departamento de Teoría de la Señal y Comunicaciones_ \\\n",
    "_Escuela Técnica Superior de Ingeniería_ \\\n",
    "_Universidad de Sevilla_ \n",
    "\n",
    "# Tema 3. Test de Hipótesis\n",
    "\n",
    "**Este notebook contiene código del Tema 3**"
   ]
  },
  {
   "cell_type": "markdown",
   "metadata": {},
   "source": [
    "<table align=\"left\">\n",
    "  <td>\n",
    "    <a target=\"_blank\" href=\"https://colab.research.google.com/github/gapsc-us/labcomdig/blob/main/Tema3.Test_de_Hipotesis.ipynb\"><img src=\"https://www.tensorflow.org/images/colab_logo_32px.png\" />Run in Google Colab</a>\n",
    "  </td>\n",
    "</table>"
   ]
  },
  {
   "cell_type": "markdown",
   "metadata": {},
   "source": [
    "## Inicialización"
   ]
  },
  {
   "cell_type": "code",
   "execution_count": 3,
   "metadata": {},
   "outputs": [],
   "source": [
    "# Python ≥3.5 is required\n",
    "import sys\n",
    "assert sys.version_info >= (3, 5)\n",
    "\n",
    "# Numpy ≥1.16 is required\n",
    "import numpy as np\n",
    "assert np.__version__ >= \"1.16\"\n"
   ]
  },
  {
   "cell_type": "markdown",
   "metadata": {},
   "source": [
    "## Probabilidad de error"
   ]
  },
  {
   "cell_type": "markdown",
   "metadata": {},
   "source": [
    "### Probabilidad de error en el caso binario"
   ]
  },
  {
   "cell_type": "markdown",
   "metadata": {},
   "source": [
    "**Código 3.2**"
   ]
  },
  {
   "cell_type": "code",
   "execution_count": 2,
   "metadata": {},
   "outputs": [
    {
     "name": "stdout",
     "output_type": "stream",
     "text": [
      "Cálculo de la probabilidad de error con ruido gaussiano y caso binario\n",
      "Umbral MAP, g: -0.27\n",
      "P_e para el detector MAP: 1.92E-02\n",
      "Umbral ML, g: 0.00\n",
      "P_e para el detector ML: 2.28E-02\n"
     ]
    }
   ],
   "source": [
    "# Rango de valores del vector de observación \n",
    "paso = 1e-6\n",
    "r = np.arange(-10,10,paso)\n",
    "\n",
    "# Probabilidades a priori\n",
    "P_0=1/4\n",
    "P_1=1-P_0\n",
    "\n",
    "# Valores de la variable aleatoria mensaje\n",
    "X_0 = -2\n",
    "X_1 = +2\n",
    "\n",
    "# Varianza del ruido aditivo en el canal\n",
    "vza = 1;\n",
    "\n",
    "# Funciones densidad de probabilidad condicionales\n",
    "f_0 = (1/(np.sqrt(2*np.pi*vza)))*np.exp(-((r-X_0)**2)/(2*vza)) # Caso X=X_0 \n",
    "f_1 = (1/(np.sqrt(2*np.pi*vza)))*np.exp(-((r-X_1)**2)/(2*vza)) # Caso X=X_1\n",
    "\"\"\"Alternativamente\n",
    "from labcomdig import fdpnormal\n",
    "f_0 = fdpnormal(r,X_0,vza)\n",
    "f_1 = fdpnormal(r,X_1,vza)\n",
    "\"\"\"\n",
    "\n",
    "# Encontrar la frontera de la región de decisión g con el detector MAP\n",
    "indexUmbral = np.where(P_1*f_1 > P_0*f_0)[0][0]\n",
    "g = r[indexUmbral]\n",
    "\"\"\" Alternativamente\n",
    "g = r[np.where(P_1*f_1 > P_0*f_0)][0]  \n",
    "#Primer valor (índice [0]) en el que P1f1>P0f0\n",
    "\"\"\"    \n",
    "print('Cálculo de la probabilidad de error con ruido gaussiano y caso binario')\n",
    "print('Umbral MAP, g: {:.2f}'.format(g))\n",
    "\n",
    "# Calcular las integrales de manera aproximada\n",
    "PC_0 = np.sum(f_0[:indexUmbral])*paso  # Pb de detección correcta si se transmite un cero\n",
    "PC_1 = np.sum(f_1[indexUmbral:])*paso  # Pb de detección correcta si se transmite un uno\n",
    "\"\"\"Alternativamente\n",
    "from scipy.integrate import quad\n",
    "F_0 = lambda r: (1/(np.sqrt(2*np.pi*vza)))*np.exp(-((r-X_0)**2)/(2*vza)) \n",
    "PC_0 = quad(F_0,y[0],g)[0]\n",
    "F_1 = lambda r: (1/(np.sqrt(2*np.pi*vza)))*np.exp(-((r-X_1)**2)/(2*vza)) \n",
    "PC_1 = quad(F_1,g,y[-1])[0]\n",
    "\"\"\"\n",
    "\n",
    "# La probabilidad correcta en el caso MAP\n",
    "PC = P_0*PC_0 + P_1*PC_1\n",
    "\n",
    "# La probabilidad de error en el caso MAP\n",
    "PE = 1 - PC\n",
    "print('P_e para el detector MAP: {:.2E}'.format(PE))\n",
    "\n",
    "# Encontrar la frontera de la región de decisión g con el detector ML\n",
    "indexUmbral = np.where(f_1 > f_0)[0][0]\n",
    "g = r[indexUmbral]\n",
    "\"\"\" Alternativamente\n",
    "g = y[np.where(P_1*f_1 > P_0*f_0)][0]  \n",
    "Primer valor (índice [0]) en el que P1f1>P0f0\n",
    "\"\"\"    \n",
    "print('Umbral ML, g: {:.2f}'.format(g))\n",
    "\n",
    "# Calcular las integrales de manera aproximada\n",
    "PC_0 = np.sum(f_0[:indexUmbral])*paso\n",
    "PC_1 = np.sum(f_1[indexUmbral:])*paso\n",
    "\"\"\"Alternativamente\n",
    "from scipy.integrate import quad\n",
    "F_0 = lambda y: (1/(np.sqrt(2*np.pi*vza)))*np.exp(-((y-X_0)**2)/(2*vza)) \n",
    "PC_0 = quad(F_0,y[0],g)[0]\n",
    "F_1 = lambda y: (1/(np.sqrt(2*np.pi*vza)))*np.exp(-((y-X_1)**2)/(2*vza)) \n",
    "PC_1 = quad(F_1,g,y[-1])[0]\n",
    "\"\"\"\n",
    "\n",
    "# La probabilidad correcta en el caso ML\n",
    "PC = P_0*PC_0 + P_1*PC_1\n",
    "\n",
    "# La probabilidad de error en el caso ML\n",
    "PE = 1 - PC\n",
    "print('P_e para el detector ML: {:.2E}'.format(PE))"
   ]
  }
 ],
 "metadata": {
  "kernelspec": {
   "display_name": "Python 3",
   "language": "python",
   "name": "python3"
  },
  "language_info": {
   "codemirror_mode": {
    "name": "ipython",
    "version": 3
   },
   "file_extension": ".py",
   "mimetype": "text/x-python",
   "name": "python",
   "nbconvert_exporter": "python",
   "pygments_lexer": "ipython3",
   "version": "3.7.4"
  }
 },
 "nbformat": 4,
 "nbformat_minor": 2
}
