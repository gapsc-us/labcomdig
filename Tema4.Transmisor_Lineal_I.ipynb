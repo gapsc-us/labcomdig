{
 "cells": [
  {
   "cell_type": "markdown",
   "metadata": {},
   "source": [
    "# MANUAL DE LABORATORIO DE COMUNICACIONES DIGITALES: PYTHON\n",
    "F. Javier Payán Somet, Juan José Murillo-Fuentes, José Carlos Aradillas Jaramillo \\\n",
    "_Departamento de Teoría de la Señal y Comunicaciones_ \\\n",
    "_Escuela Técnica Superior de Ingeniería_ \\\n",
    "_Universidad de Sevilla_ \n",
    "\n",
    "# Tema 4. Modulador Lineal I\n",
    "\n",
    "**Este notebook contiene código del Tema 4**"
   ]
  },
  {
   "cell_type": "markdown",
   "metadata": {},
   "source": [
    "<table align=\"left\">\n",
    "  <td>\n",
    "    <a target=\"_blank\" href=\"https://colab.research.google.com/github/gapsc-us/labcomdig/blob/main/Tema4.Transmisor_Lineal_I.ipynb\"><img src=\"https://www.tensorflow.org/images/colab_logo_32px.png\" />Run in Google Colab</a>\n",
    "  </td>\n",
    "</table>"
   ]
  },
  {
   "cell_type": "markdown",
   "metadata": {},
   "source": [
    "## Inicialización"
   ]
  },
  {
   "cell_type": "code",
   "execution_count": 1,
   "metadata": {},
   "outputs": [],
   "source": [
    "# Python ≥3.5 is required\n",
    "import sys\n",
    "assert sys.version_info >= (3, 5)\n",
    "\n",
    "# Numpy ≥1.16 is required\n",
    "import numpy as np\n",
    "assert np.__version__ >= \"1.16\"\n",
    "\n",
    "# To plot pretty figures\n",
    "%matplotlib inline\n",
    "import matplotlib as mpl\n",
    "import matplotlib.pyplot as plt\n",
    "mpl.rc('axes', labelsize=14)\n",
    "mpl.rc('xtick', labelsize=12)\n",
    "mpl.rc('ytick', labelsize=12)\n",
    "\n",
    "# Ignore useless warnings\n",
    "import warnings\n",
    "warnings.filterwarnings(action=\"ignore\") #Ignorar warnings"
   ]
  },
  {
   "cell_type": "markdown",
   "metadata": {},
   "source": [
    "## Diseño experimental de un transmisor PAM"
   ]
  },
  {
   "cell_type": "markdown",
   "metadata": {},
   "source": [
    "### Transmisor PAM discreto"
   ]
  },
  {
   "cell_type": "markdown",
   "metadata": {},
   "source": [
    "**Código 4.1** Transmisor M-PAM\n",
    "\n",
    "Las funciones que se describen aquí están en el fichero labcomdig.py"
   ]
  },
  {
   "cell_type": "code",
   "execution_count": 2,
   "metadata": {},
   "outputs": [],
   "source": [
    "def transmisorpam(Bn,Eb,M,p,L):\n",
    "    '''\n",
    "    [Xn,Bn,An,phi,alfabetopam] = transmisorpam(Bn,M,Eb,p,L)\n",
    "     \n",
    "    Bn = Secuencia de dígitos binarios\n",
    "    Eb = Energía media por bit transmitida en Julios\n",
    "    M  = Número de símbolos del código PAM\n",
    "    p  = Pulso paso de baja o paso de banda \n",
    "    L  = Número de puntos a utilizar en la representación de un sí­mbolo\n",
    "    \n",
    "    Devuelve:\n",
    "    Xn = la señal de información (discreta)\n",
    "    Bn = La secuencia de dígitos binarios realmente transmitidos\n",
    "    An = La secuencia de niveles de amplitud transmitidos\n",
    "    phi = Pulso básico real normalizado (energía unidad)\n",
    "    alfabetopam = Los niveles de amplitud asociados a cada símbolo\n",
    "    '''    \n",
    "    \n",
    "    # Se obtienen en primer lugar los niveles asociado a cada símbolo ¿Cuántos bits hay en cada sí­mbolo?\n",
    "\n",
    "    k = int(np.ceil(np.log2(M)))\n",
    "    \n",
    "    # Se Ajusta M a una potencia de dos\n",
    "    M = 2**(k)\n",
    "    \n",
    "    # El alfabeto [Ver la ecuación (4.21)] \n",
    "    alfabetopam = np.sqrt(3*Eb*np.log2(M)/(M**2-1))*(2*(np.arange(M))-M+1)\n",
    "    \n",
    "    # Si Bn no tiene una longitud múltiplo de k, se completa con ceros\n",
    "    Nb = len(Bn)  # Número de bits a transmitir, actualizado\n",
    "    Bn = np.pad(Bn, [0, int(k*np.ceil(Nb/k)-Nb)],mode='constant')\n",
    "    Nb = len(Bn)  # Número de bits a transmitir tras la corrección\n",
    "    Ns = Nb//k        # Número de símbolos a transmitir\n",
    "    \n",
    "    # La secuencia generada\n",
    "    if M>2:\n",
    "        An = alfabetopam[gray2de(np.reshape(Bn,[Ns,k]))]\n",
    "    else:\n",
    "        An = alfabetopam[Bn]\n",
    "    \n",
    "    # Comprobación de las longitudes y otros datos del pulso suministrado para \n",
    "    # hacer que el número de muestras del mismo sea efectivamente L\n",
    "    Ls = len(p)\n",
    "    if Ls<L:\n",
    "        p = np.pad(p,[0,L-Ls],mode='constant')\n",
    "    else:\n",
    "        print('La duración del pulso se trunca a {} muestras'.format(str(L)))\n",
    "        p = p[:L] #Debe modificarse si se quiere un pulso de más de L muestras\n",
    "    \n",
    "    # Se normaliza la energía del pulso para obtener la base del sistema\n",
    "    phi = (1/np.sqrt(np.dot(p, p.T)))*p \n",
    "       \n",
    "    # Obtención del tren de pulsos\n",
    "    Xn = np.kron(An,phi) #Debe modificarse si se quiere un pulso de más de L muestras\n",
    "    \n",
    "    return [Xn,Bn,An,phi,alfabetopam]"
   ]
  },
  {
   "cell_type": "markdown",
   "metadata": {},
   "source": [
    "**Código 4.2** Asignación Gray a decimal"
   ]
  },
  {
   "cell_type": "code",
   "execution_count": 3,
   "metadata": {},
   "outputs": [],
   "source": [
    "def gray2de(b): \n",
    "    ''' \n",
    "     d = gray2de(b) Convierte cada fila de la matriz formada por dígitos binarios b\n",
    "       en un vector columna, d, de los valores decimales correspondientes.\n",
    "    '''\n",
    "    c = np.zeros_like(b)\n",
    "    c[:,0] = b[:,0]\n",
    "    for i in range(1,np.shape(b)[1]):\n",
    "        c[:,i] = np.logical_xor(c[:,i-1], b[:,i])\n",
    "    # Convierte los bits menos significativos en los más significativos\n",
    "    c = np.fliplr(c)\n",
    "\n",
    "    #Comprueba un caso especial.\n",
    "    [n,m] = np.shape(c) \n",
    "    if np.min([m,n]) < 1:\n",
    "        d = []\n",
    "        return\n",
    "    d = np.dot(c, 2**np.arange(m))\n",
    "    return d"
   ]
  },
  {
   "cell_type": "markdown",
   "metadata": {},
   "source": [
    "**Código 4.3** Ejemplos de uso de Gray2de"
   ]
  },
  {
   "cell_type": "code",
   "execution_count": 4,
   "metadata": {},
   "outputs": [
    {
     "name": "stdout",
     "output_type": "stream",
     "text": [
      "Asignación de Gray de números de 0 a 7 codificados en 3 bits de forma consecutiva:\n",
      " [ 10  34 102]\n",
      "Asignación de Gray de secuencia con números de 0 a 7 ordenados de forma que haya cambios consecutivos de un bit:\n",
      " [10 40 68]\n"
     ]
    }
   ],
   "source": [
    "b =np.array([[0,0,0],[0,0,1],[0,1,0],[0,1,1],[1,0,0],[1,0,1],[1,1,0],[1,1,1]]).T\n",
    "print('Asignación de Gray de números de 0 a 7 codificados en 3 bits de forma consecutiva:\\n',gray2de(b))\n",
    "\n",
    "b =np.array([[0,0,0],[0,0,1],[0,1,1],[0,1,0],[1,1,0],[1,1,1],[1,0,1],[1,0,0]]).T\n",
    "print('Asignación de Gray de secuencia con números de 0 a 7 ordenados de forma que haya cambios consecutivos de un bit:\\n',gray2de(b))"
   ]
  },
  {
   "cell_type": "markdown",
   "metadata": {},
   "source": [
    "**Código 4.4** Ejemplos de uso de np.reshape"
   ]
  },
  {
   "cell_type": "code",
   "execution_count": 5,
   "metadata": {},
   "outputs": [
    {
     "name": "stdout",
     "output_type": "stream",
     "text": [
      "Sea el vector fila de 12 elementos\n",
      " [[4 1 1 4 2 2]\n",
      " [2 2 4 2 3 2]]\n",
      "Vector a reordenado como Matriz 4x3\n",
      " [[4 1 1]\n",
      " [4 2 2]\n",
      " [2 2 4]\n",
      " [2 3 2]]\n",
      "Vector a reordenado como Matriz 4x3 por columna\n",
      " [[4 1 2]\n",
      " [2 4 3]\n",
      " [1 4 2]\n",
      " [2 2 2]]\n",
      "Vector a como Matriz 3x4\n",
      " [[4 1 1 4]\n",
      " [2 2 2 2]\n",
      " [4 2 3 2]]\n",
      "Vector a reordenado como Matriz 3x4 por columna\n",
      " [[4 2 4 3]\n",
      " [2 1 2 2]\n",
      " [1 4 2 2]]\n"
     ]
    }
   ],
   "source": [
    "a=np.array([[4, 1, 1, 4, 2, 2],[ 2, 2, 4, 2, 3, 2]])\n",
    "print('Sea el vector fila de 12 elementos\\n',a)\n",
    "A=np.reshape(a,newshape=[4,3])\n",
    "print('Vector a reordenado como Matriz 4x3\\n',A)\n",
    "B=np.reshape(a,newshape=[4,3], order='F') #F after Fortran-like\n",
    "print('Vector a reordenado como Matriz 4x3 por columna\\n',B)\n",
    "C=np.reshape(a,newshape=[3,4]) \n",
    "print('Vector a como Matriz 3x4\\n',C)\n",
    "D=np.reshape(a,newshape=[3,4], order='F')\n",
    "print('Vector a reordenado como Matriz 3x4 por columna\\n',D)"
   ]
  },
  {
   "cell_type": "markdown",
   "metadata": {},
   "source": [
    "### Ejemplos de uso de la función transmisorpam"
   ]
  },
  {
   "cell_type": "markdown",
   "metadata": {},
   "source": [
    "**Código 4.5** Generación de una señal M-PAM banda base con una señalización Manchester"
   ]
  },
  {
   "cell_type": "code",
   "execution_count": 6,
   "metadata": {},
   "outputs": [
    {
     "name": "stdout",
     "output_type": "stream",
     "text": [
      "\n",
      "\n",
      "Generación de una señal M-PAM banda base con una señalización Manchester.\n",
      "La duración del pulso se trunca a 8 muestras\n"
     ]
    },
    {
     "data": {
      "image/png": "[encoded data removed]",
      "text/plain": [
       "<Figure size 432x288 with 1 Axes>"
      ]
     },
     "metadata": {
      "needs_background": "light"
     },
     "output_type": "display_data"
    },
    {
     "data": {
      "image/png": "[encoded data removed]",
      "text/plain": [
       "<Figure size 432x288 with 1 Axes>"
      ]
     },
     "metadata": {
      "needs_background": "light"
     },
     "output_type": "display_data"
    }
   ],
   "source": [
    "print('\\n\\nGeneración de una señal M-PAM banda base con una señalización Manchester.')\n",
    "#import matplotlib.pyplot as plt\n",
    "#import numpy as np\n",
    "#from labcomdig import transmisorpam\n",
    "\n",
    "# Datos\n",
    "Bn = np.array([1,0,1,1,1,1,0,1,0,1,0,0,0,1,0]) #Secuencia de bits\n",
    "Eb = 8 #Energía de bit, en Julios\n",
    "L = 8 #Número de muestras por símbolo\n",
    "Rb = 1e6 #Sólo necesario para representar en tiempo\n",
    "M = 8 #Orden de la modulación\n",
    "\n",
    "# Definición del pulso de Manchester\n",
    "p = np.ones(L) # La función evaluada en los puntos elegidos \n",
    "p[L//2:] = -1 # // se usa para división entera (floor)\n",
    "[Xn,Bn,An,phi,alfabeto] = transmisorpam(Bn,Eb,M,p,L)\n",
    "\n",
    "#Actualizamos valores tras las posibles modificaciones\n",
    "L = len(phi) #Número de muestras por símbolo\n",
    "Nb = len(Bn) #Número de bits transmitidos\n",
    "M = len(alfabeto) #Número de símbolos de la constelación\n",
    "k = np.log2(M) # Número de bits por símbolo\n",
    "Ns = Nb/k #Número de símbolos\n",
    "\n",
    "# Representación en tiempo discreto\n",
    "plt.figure(41)\n",
    "plt.stem(np.arange(Ns*L),Xn, 'b-','bo','b-', use_line_collection = True)\n",
    "plt.grid()\n",
    "plt.xlabel('n'); plt.ylabel('X(n)')\n",
    "plt.title('Código 4.5. Representación en tiempo discreto')\n",
    "plt.show()\n",
    "\n",
    "# Representación en tiempo continuo\n",
    "Tb = 1/Rb #Duración del bit en segundos\n",
    "Ts = Tb*k #Duración tiempo de símbolo\n",
    "Tm = Ts/L #Intervalo entre cada muestra de la señal \n",
    "Td = Tb*Nb #Duración total de la señal\n",
    "t = np.arange(Ns*L)*Tm*1e6 #Otra posibilidad: t = np.arange(0,Td,Tm)*1e6\n",
    "#t es el eje de representación de la señal en tiempo continuo escalado (1e6)\n",
    "Xt = np.sqrt (1/Tm )*Xn\n",
    "plt.figure(42), plt.plot(t,Xt), plt.grid()\n",
    "plt.xlabel('t ($\\mu$s)'), plt.ylabel('X(t)')\n",
    "plt.title('Código 4.5. Representación en tiempo continuo')\n",
    "plt.tight_layout()\n",
    "plt.show()\n"
   ]
  },
  {
   "cell_type": "markdown",
   "metadata": {},
   "source": [
    "**Código 4.6** Generación de una señal M-PAM paso de banda"
   ]
  },
  {
   "cell_type": "code",
   "execution_count": 8,
   "metadata": {},
   "outputs": [
    {
     "name": "stdout",
     "output_type": "stream",
     "text": [
      "\n",
      "\n",
      "Generación de una señal M-PAM paso de banda con pulso rectangular.\n",
      "Incrementamos de 8 a 32 el número de muestras\n",
      "\n",
      "Definimos el pulso p como el producto de un pulso conformador,\n",
      " rectangular, multiplicado por un coseno de frecuencia angular wc=4pi/T\n",
      "La duración del pulso se trunca a 32 muestras\n"
     ]
    },
    {
     "data": {
      "image/png": "[encoded data removed]",
      "text/plain": [
       "<Figure size 432x288 with 1 Axes>"
      ]
     },
     "metadata": {
      "needs_background": "light"
     },
     "output_type": "display_data"
    },
    {
     "data": {
      "image/png": "[encoded data removed]",
      "text/plain": [
       "<Figure size 432x288 with 1 Axes>"
      ]
     },
     "metadata": {
      "needs_background": "light"
     },
     "output_type": "display_data"
    }
   ],
   "source": [
    "print('\\n\\nGeneración de una señal M-PAM paso de banda con pulso rectangular.')\n",
    "#import numpy as np\n",
    "#import matplotlib.pyplot as plt\n",
    "#from labcomdig import transmisorpam\n",
    "\n",
    "# Datos\n",
    "Bn = np.array([1,0,1,1,1,1,0,1,0,1,0,0,0,1,0]) #Secuencia de bits\n",
    "Eb = 8 #Energía de bit, en Julios\n",
    "print('Incrementamos de 8 a 32 el número de muestras\\n')\n",
    "L = 32 #Número de muestras por símbolo, se incrementa de 8 a 32\n",
    "Rb = 1e6 #Sólo necesario para representar en tiempo\n",
    "M = 8 #Orden de la modulación\n",
    "\n",
    "print('Definimos el pulso p como el producto de un pulso conformador,\\n \\\n",
    "rectangular, multiplicado por un coseno de frecuencia angular wc=4pi/T')\n",
    "\n",
    "# Definición del pulso conformador g: rectangular\n",
    "g = np.ones(L) # \n",
    "\n",
    "#Definición de pulso p\n",
    "wc = 4*np.pi/L #frecuencia angular en discreto\n",
    "p = np.sqrt(2/L)*g*np.cos(wc*np.arange(L))\n",
    "\n",
    "# Transmision\n",
    "[Xn,Bn,An,phi,alfabeto] = transmisorpam(Bn,Eb,M,p,L)\n",
    "\n",
    "#Actualizamos valores tras las posibles modificaciones\n",
    "L = len(phi) #Número de muestras por símbolo\n",
    "Nb = len(Bn) #Número de bits transmitidos\n",
    "M = len(alfabeto) #Número de símbolos de la constelación\n",
    "k = np.log2(M) # Número de bits por símbolo\n",
    "Ns = Nb/k #Número de símbolos\n",
    "\n",
    "# Representación en tiempo discreto\n",
    "plt.figure(43)\n",
    "plt.stem(np.arange(Ns*L),Xn,'b-','bo','b-', use_line_collection = True)\n",
    "plt.grid()\n",
    "plt.xlabel('n'), plt.ylabel('X(n)')\n",
    "plt.title('Código 4.6. Representación en tiempo discreto')\n",
    "plt.show()\n",
    "\n",
    "# Se definen los parámetros en tiempo continuo\n",
    "Tb = 1/Rb # Duración del bit en segundos\n",
    "Ts = Tb*k #Duración tiempo de símbolo\n",
    "Tm = Ts/L #Intervalo entre cada muestra de la señal \n",
    "Td = Tb*Nb # Duración de la señal\n",
    "t = np.arange(0,Td,Tm)*1e6 # Eje de representación de la señal en tiempo continuo escalado\n",
    "Xt = np.sqrt(1/Tm)*Xn\n",
    "plt.figure(44), plt.plot(t,Xt), plt.grid()\n",
    "plt.xlabel('t ($\\mu$s)'), plt.ylabel('X(t)')\n",
    "plt.title('Código 4.6. Representación en tiempo continuo')\n",
    "plt.tight_layout()\n",
    "plt.show()\n"
   ]
  },
  {
   "cell_type": "code",
   "execution_count": null,
   "metadata": {},
   "outputs": [],
   "source": []
  },
  {
   "cell_type": "code",
   "execution_count": null,
   "metadata": {},
   "outputs": [],
   "source": []
  }
 ],
 "metadata": {
  "kernelspec": {
   "display_name": "Python 3",
   "language": "python",
   "name": "python3"
  },
  "language_info": {
   "codemirror_mode": {
    "name": "ipython",
    "version": 3
   },
   "file_extension": ".py",
   "mimetype": "text/x-python",
   "name": "python",
   "nbconvert_exporter": "python",
   "pygments_lexer": "ipython3",
   "version": "3.7.4"
  }
 },
 "nbformat": 4,
 "nbformat_minor": 2
}
